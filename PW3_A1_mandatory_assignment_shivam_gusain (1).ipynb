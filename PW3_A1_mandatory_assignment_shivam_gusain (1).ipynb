{
  "cells": [
    {
      "cell_type": "markdown",
      "metadata": {
        "nbgrader": {
          "grade": false,
          "grade_id": "cell-39806162dd625703",
          "locked": true,
          "schema_version": 3,
          "solution": false,
          "task": false
        },
        "id": "mHbGs2xdlzA0"
      },
      "source": [
        "# Python W3 - Assignment 01"
      ]
    },
    {
      "cell_type": "markdown",
      "metadata": {
        "nbgrader": {
          "grade": false,
          "grade_id": "Q1",
          "locked": true,
          "schema_version": 3,
          "solution": false,
          "task": false
        },
        "id": "qmJDJaq8lzA8"
      },
      "source": [
        "\n",
        "## 1. What does average represent at the end of the execution ? (1 mark)\n"
      ]
    },
    {
      "cell_type": "code",
      "execution_count": 4,
      "metadata": {
        "nbgrader": {
          "grade": false,
          "grade_id": "cell-bdbb11386adf6c13",
          "locked": true,
          "schema_version": 3,
          "solution": false,
          "task": false
        },
        "id": "X8nMspVKlzBA",
        "colab": {
          "base_uri": "https://localhost:8080/"
        },
        "outputId": "95823e4d-c8a3-41e2-c5e8-cbc3c5bb8936"
      },
      "outputs": [
        {
          "output_type": "stream",
          "name": "stdout",
          "text": [
            "51.0\n"
          ]
        }
      ],
      "source": [
        "total,count= 0,0\n",
        "\n",
        "for i in range(1000):\n",
        "    if i%2 != 0 and count <= 50:\n",
        "        total = total + i\n",
        "        count = count + 1\n",
        "average = total / count\n",
        "print(average)"
      ]
    },
    {
      "cell_type": "markdown",
      "metadata": {
        "id": "uTx-gnn8lzBE"
      },
      "source": [
        "| Options |\n",
        "| --- |\n",
        "| (a) average of 1 to 1000 numbers |\n",
        "| (b) average of first 1000 odd numbers |\n",
        "| (c) average of first 50 odd numbers |\n",
        "| (d) average of first 51 odd numbers |"
      ]
    },
    {
      "cell_type": "markdown",
      "metadata": {
        "nbgrader": {
          "grade": true,
          "grade_id": "A1",
          "locked": false,
          "points": 2,
          "schema_version": 3,
          "solution": true,
          "task": false
        },
        "id": "hqjNYdcXlzBG"
      },
      "source": [
        "(d) average of first 51 odd number\n",
        "\n",
        "\n",
        "\n"
      ]
    },
    {
      "cell_type": "markdown",
      "metadata": {
        "nbgrader": {
          "grade": false,
          "grade_id": "cell-a13189a026c3771d",
          "locked": true,
          "schema_version": 3,
          "solution": false,
          "task": false
        },
        "id": "7zAEeO1LlzBH"
      },
      "source": [
        "## 2. How many asterisks does the following code print ? (1 mark)"
      ]
    },
    {
      "cell_type": "code",
      "execution_count": null,
      "metadata": {
        "id": "Xj2LSPqelzBI"
      },
      "outputs": [],
      "source": [
        "i = -3\n",
        "while (i<=13):\n",
        "    print('**')\n",
        "    print('*')\n",
        "    i = i+1"
      ]
    },
    {
      "cell_type": "markdown",
      "metadata": {
        "id": "MeLkCbsXlzBI"
      },
      "source": [
        "| Options |\n",
        "| --- |\n",
        "| (a) 51 |\n",
        "| (b) 25 |\n",
        "| (c) 39 |\n",
        "| (d) 48 |"
      ]
    },
    {
      "cell_type": "code",
      "source": [
        "(a) 51"
      ],
      "metadata": {
        "id": "dOnnLlX-ociK"
      },
      "execution_count": null,
      "outputs": []
    },
    {
      "cell_type": "markdown",
      "metadata": {
        "nbgrader": {
          "grade": true,
          "grade_id": "cell-5b0ec5b5f53b7705",
          "locked": false,
          "points": 2,
          "schema_version": 3,
          "solution": true,
          "task": false
        },
        "id": "a2rnitYKlzBJ"
      },
      "source": [
        "#YOUR ANSWER HERE"
      ]
    },
    {
      "cell_type": "markdown",
      "metadata": {
        "nbgrader": {
          "grade": false,
          "grade_id": "Q2",
          "locked": true,
          "schema_version": 3,
          "solution": false,
          "task": false
        },
        "id": "xM8bNM6glzBK"
      },
      "source": [
        "## Question 3 (1 mark)\n",
        "\n",
        "P is a non empty list of distinct integers that has already been defined. Which of the following statements are true at the end of execution of the code given below ? More than one option can be correct.\n"
      ]
    },
    {
      "cell_type": "code",
      "execution_count": null,
      "metadata": {
        "id": "XxHEgQfplzBL"
      },
      "outputs": [],
      "source": [
        "Q,R = [], []\n",
        "\n",
        "for x in P:\n",
        "    Q.append(-x)\n",
        "Q.sort()\n",
        "for x in Q:\n",
        "    R.append(-x)"
      ]
    },
    {
      "cell_type": "markdown",
      "metadata": {
        "nbgrader": {
          "grade": true,
          "grade_id": "A2",
          "locked": false,
          "points": 2,
          "schema_version": 3,
          "solution": true,
          "task": false
        },
        "id": "lltb-xJglzBM"
      },
      "source": [
        "| Options |\n",
        "| --- |\n",
        "| (a) P is always equal to R , i.e., P == R returns the value True |\n",
        "| (b) Every element in P is present in R , but not necessarily in the same sequence |\n",
        "| (c) R is a list of integers sorted in descending order |\n",
        "| (d) R is a list of integers sorted in ascending order |"
      ]
    },
    {
      "cell_type": "markdown",
      "metadata": {
        "nbgrader": {
          "grade": false,
          "grade_id": "cell-c583dcd635f03dab",
          "locked": true,
          "schema_version": 3,
          "solution": false,
          "task": false
        },
        "id": "KKhmgNT_lzBM"
      },
      "source": [
        "# (c) every element in P is present in R but not necessarily in the same sequence\n"
      ]
    },
    {
      "cell_type": "markdown",
      "metadata": {
        "nbgrader": {
          "grade": false,
          "grade_id": "Q4",
          "locked": true,
          "schema_version": 3,
          "solution": false,
          "task": false
        },
        "id": "N-ueestzlzBN"
      },
      "source": [
        "## 4. Check Function (1.5 mark)\n",
        "\n",
        "Given the following function description\n",
        "Returns True if it is possible to add two of the arguments to get the remaining one and False otherwise.\n",
        "\n",
        "Example:-\n",
        "Check(1, 2, 3) returns True\n",
        "\n",
        "Check(3, 1, 2) returns True\n",
        "\n",
        "Check(3, 2, 2) returns False\n",
        "\n",
        " \n",
        "Which of the following function definitions produces the desired effect?\n",
        "\n",
        "More than one option can be correct"
      ]
    },
    {
      "cell_type": "code",
      "execution_count": null,
      "metadata": {
        "id": "J_G4Y3nAlzBO"
      },
      "outputs": [],
      "source": [
        "#OPTION A\n",
        "\n",
        "def Check(a,b,c):\n",
        "    l = [a,b,c]\n",
        "    l.sort()\n",
        "    return min(l) + min(l[1:]) == max(a,b,c)\n",
        "\n",
        "\n",
        "#===================================================#\n",
        "# OPTION B\n",
        "\n",
        "def Check(a,b,c):\n",
        "    if((a + b == c) and (a + c == b) and (b + c == a)):\n",
        "        return True\n",
        "    return False\n",
        "\n",
        "#===================================================#\n",
        "# OPTION C\n",
        "\n",
        "def Check(a,b,c):\n",
        "    if (a + b == c):\n",
        "        return True\n",
        "    elif (a + c == b) or (b + c == a):\n",
        "        return True\n",
        "    return False\n",
        "\n",
        "#===================================================#\n",
        "# OPTION D\n",
        "\n",
        "def Check(a,b,c):\n",
        "    if (a + b != c):\n",
        "        return False\n",
        "    elif (a + c != b):\n",
        "        return False\n",
        "    elif (b + c != a):\n",
        "        return False\n",
        "    return True\n",
        "\n",
        "#===================================================#\n",
        "# OPTION E\n",
        "\n",
        "def Check(a,b,c):\n",
        "    l = [a,b,c]\n",
        "    l.sort()\n",
        "    return l[0] + l[1] == l[2]"
      ]
    },
    {
      "cell_type": "markdown",
      "metadata": {
        "nbgrader": {
          "grade": true,
          "grade_id": "A4",
          "locked": false,
          "points": 2,
          "schema_version": 3,
          "solution": true,
          "task": false
        },
        "id": "tXI5hY8ylzBP"
      },
      "source": [
        "OPTION A C E"
      ]
    },
    {
      "cell_type": "markdown",
      "metadata": {
        "id": "XDybV21rlzBQ"
      },
      "source": [
        "### 5. Palindrome (1.5 marks)\n",
        "\n",
        "Write a program that accepts a string as input and determines whether it is a palindrome or not. A palindrome is a word which is spelled the same way in both the directions i.e., regardless of whether you read it from left to right or right to left it is the same word. \n",
        "\n",
        "Example:\n",
        "    Madam, Racecar\n",
        "\n"
      ]
    },
    {
      "cell_type": "code",
      "execution_count": 6,
      "metadata": {
        "id": "zOqX6MfKlzBS",
        "colab": {
          "base_uri": "https://localhost:8080/"
        },
        "outputId": "87cee576-05e0-4670-d53b-f8a5ad5e3640"
      },
      "outputs": [
        {
          "output_type": "stream",
          "name": "stdout",
          "text": [
            "enter the  word \n",
            "madam\n",
            "yes it is palindrom word\n",
            "madam\n"
          ]
        }
      ],
      "source": [
        "a = input(\"enter the  word \"\"\\n\") # enter any word \n",
        "if a[::1] == a[::-1] : # condition check form 1 index left to right  = to check (n - 1) from last index right to left if it is equal then condition full fill  \n",
        "   print(\"yes it is palindrom word\") \n",
        "   print(a)\n",
        "else:\n",
        "  print(\"it is not a palindrom word\",a)\n",
        "  "
      ]
    },
    {
      "cell_type": "markdown",
      "metadata": {
        "id": "sezgBCgtlzBS"
      },
      "source": [
        "### 6. List Rotation (2 marks)\n",
        "\n",
        "A clockwise rotation of a list consists of taking the last element and moving it to the beginning of the list. For instance, if we rotate the list [1,2,3,4.5, we get [5,1,2,3,4]. If we rotate it again, we get [4,5,1,2,3].\n",
        "\n",
        "Write a program to accept a non-empty sequence of numbers separated by space and a positive integer k and print the list elements in same line separated by space after k rotations. For example:\n"
      ]
    },
    {
      "cell_type": "markdown",
      "metadata": {
        "id": "9yW7bj-FlzBU"
      },
      "source": [
        "\n",
        "Input\n",
        "\n",
        "1 2 3 4 5\n",
        "\n",
        "3\n",
        "\n",
        "Output\n",
        "\n",
        "3 4 5 1 2"
      ]
    },
    {
      "cell_type": "code",
      "execution_count": null,
      "metadata": {
        "id": "ZKVg130ZlzBW"
      },
      "outputs": [],
      "source": [
        "n = int(input(\"enter the list value\"))\n",
        "c = []\n",
        "for i in range(n) :\n",
        "  b = input(\"enter the element\")\n",
        "  c.append(b)\n",
        "print(\"the finnal list\",c)\n",
        "k = int(input(\"enter the value of rotation\"))\n"
      ]
    },
    {
      "cell_type": "markdown",
      "metadata": {
        "id": "N-Z8WWz7lzBY"
      },
      "source": [
        "### 7. User Score (2 marks)\n",
        "\n",
        "You are a forum admin. You wish to find out the total score of each user using the scoring logic given below. If the user scores more than 50, then the user is given a Leader badge, otherwise a Basic badge is given."
      ]
    },
    {
      "cell_type": "markdown",
      "metadata": {
        "id": "siuqrlBBlzBZ"
      },
      "source": [
        "| Action | Points |\n",
        "| --- | --- |\n",
        "| read a post | 1 |\n",
        "| replied to a post | 3 |\n",
        "| created a new post | 5 |"
      ]
    },
    {
      "cell_type": "markdown",
      "metadata": {
        "id": "g9WTSXYwlzBa"
      },
      "source": [
        "Implement the body of the function `user_score`. The function accepts 3 integer arguments- `read_count, reply_count, new_post_count`. It calculates the score based on the input counts and returns `Leader` or `Basic`."
      ]
    },
    {
      "cell_type": "code",
      "execution_count": 3,
      "metadata": {
        "id": "ghYyT-3qlzBb"
      },
      "outputs": [],
      "source": [
        "def user_score(read_count, reply_count, new_post_count):\n",
        "\n",
        "  read_count = 1 * read_count  # assign value to readcount\n",
        " \n",
        "  reply_count = 3 * reply_count  # assign value to replycount\n",
        "  \n",
        "  new_post_count = 5 * new_post_count # assign value to new post count\n",
        "\n",
        "  c = read_count + reply_count + new_post_count # take a variable and put some value all three in it \n",
        "  if c <= 50:  #apply condition c sum is less than 50 the it basic badge \n",
        "    print(\"basic badge\") # condition true print (basic badge) if fails then go to else part\n",
        "    print(c)\n",
        "  else:\n",
        "    print(\"leader badge\",c)\n",
        "     #write Function \n",
        "    #YOUR ANSWER HERE"
      ]
    },
    {
      "cell_type": "code",
      "source": [
        "user_score(1,2,3)"
      ],
      "metadata": {
        "colab": {
          "base_uri": "https://localhost:8080/"
        },
        "id": "35JjXlXtCFvt",
        "outputId": "c1025289-152b-400b-ade5-7568f9032f3d"
      },
      "execution_count": 4,
      "outputs": [
        {
          "output_type": "stream",
          "name": "stdout",
          "text": [
            "basic badge\n",
            "22\n"
          ]
        }
      ]
    },
    {
      "cell_type": "code",
      "source": [
        ""
      ],
      "metadata": {
        "id": "rmeQtj6lCOZM"
      },
      "execution_count": null,
      "outputs": []
    }
  ],
  "metadata": {
    "celltoolbar": "Create Assignment",
    "kernelspec": {
      "display_name": "Python 3 (ipykernel)",
      "language": "python",
      "name": "python3"
    },
    "language_info": {
      "codemirror_mode": {
        "name": "ipython",
        "version": 3
      },
      "file_extension": ".py",
      "mimetype": "text/x-python",
      "name": "python",
      "nbconvert_exporter": "python",
      "pygments_lexer": "ipython3",
      "version": "3.9.12"
    },
    "toc": {
      "base_numbering": 1,
      "nav_menu": {},
      "number_sections": true,
      "sideBar": true,
      "skip_h1_title": false,
      "title_cell": "Table of Contents",
      "title_sidebar": "Contents",
      "toc_cell": false,
      "toc_position": {},
      "toc_section_display": true,
      "toc_window_display": false
    },
    "varInspector": {
      "cols": {
        "lenName": 16,
        "lenType": 16,
        "lenVar": 40
      },
      "kernels_config": {
        "python": {
          "delete_cmd_postfix": "",
          "delete_cmd_prefix": "del ",
          "library": "var_list.py",
          "varRefreshCmd": "print(var_dic_list())"
        },
        "r": {
          "delete_cmd_postfix": ") ",
          "delete_cmd_prefix": "rm(",
          "library": "var_list.r",
          "varRefreshCmd": "cat(var_dic_list()) "
        }
      },
      "types_to_exclude": [
        "module",
        "function",
        "builtin_function_or_method",
        "instance",
        "_Feature"
      ],
      "window_display": false
    },
    "colab": {
      "name": "PW3_A1_mandatory_assignment_shivam gusain.ipynb",
      "provenance": [],
      "collapsed_sections": []
    }
  },
  "nbformat": 4,
  "nbformat_minor": 0
}